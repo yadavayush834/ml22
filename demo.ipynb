# Demo Notebook for Binder

import numpy as np
import pandas as pd
import matplotlib.pyplot as plt
from sklearn.linear_model import LinearRegression

print("NumPy version:", np.__version__)
print("Pandas version:", pd.__version__)
print("Matplotlib version:", plt.matplotlib.__version__)

# Quick test of NumPy
a = np.array([1, 2, 3])
print("NumPy array:", a)


# Quick test of scikit-learn
X = np.array([[1], [2], [3]])
y = np.array([2, 4, 6])
model = LinearRegression().fit(X, y)
print("Predicted value for 4:", model.predict([[4]])[0])

# Simple plot
plt.plot([1,2,3],[1,4,9])
plt.title("Simple Plot")
plt.show()
